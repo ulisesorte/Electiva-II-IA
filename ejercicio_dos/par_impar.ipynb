{
 "cells": [
  {
   "cell_type": "markdown",
   "metadata": {},
   "source": [
    "## \n",
    " ejercicio par impar "
   ]
  },
  {
   "cell_type": "code",
   "execution_count": 2,
   "metadata": {},
   "outputs": [
    {
     "name": "stdout",
     "output_type": "stream",
     "text": [
      "['impar', 'par', 'impar', 'par', 'impar', 'par', 'impar', 'par', 'impar', 'par']\n"
     ]
    }
   ],
   "source": [
    "def clasificar_parimpar(numero):\n",
    "    if numero % 2 == 0:\n",
    "        return\"par\"\n",
    "    else:\n",
    "        return \"impar\"\n",
    "\n",
    "numeros = [1,2,3,4,5,6,7,8,9,10]\n",
    "resultados = []\n",
    "\n",
    "for i in numeros:\n",
    "    resultados.append(clasificar_parimpar(i))\n",
    "\n",
    "print(resultados)"
   ]
  },
  {
   "cell_type": "markdown",
   "metadata": {},
   "source": [
    "##\n",
    "modelo ML para determinar si es par o impar "
   ]
  },
  {
   "cell_type": "code",
   "execution_count": null,
   "metadata": {},
   "outputs": [],
   "source": [
    "pip install scikit-learn"
   ]
  },
  {
   "cell_type": "code",
   "execution_count": null,
   "metadata": {},
   "outputs": [],
   "source": [
    "import numpy as np\n",
    "from sklearn.linear_model import LogisticRegression\n",
    "from sklearn.metrics import accuracy_score\n",
    "\n",
    "#datos de entrenamiento \n",
    "\n",
    "x_train = np.array([[2],[4],[6],[8],[10],[1],[3],[5],[7],[9]])\n",
    "y_train = np.array([[1],[1],[1],[1],[1],[0],[0],[0],[0],[0]])\n",
    "\n",
    "# creacion del comdelo de regresion\n",
    "\n",
    "modelo = LogisticRegression()\n",
    "modelo.fit(x_train, y_train)\n"
   ]
  },
  {
   "cell_type": "markdown",
   "metadata": {},
   "source": [
    "##\n",
    "probar modelo con datos diferentes\n"
   ]
  },
  {
   "cell_type": "code",
   "execution_count": 9,
   "metadata": {},
   "outputs": [
    {
     "name": "stdout",
     "output_type": "stream",
     "text": [
      "[0 0 1]\n"
     ]
    }
   ],
   "source": [
    "x_test = np.array([[3],[5],[200]])\n",
    "predicciones = modelo.predict(x_test)\n",
    "\n",
    "print(predicciones)"
   ]
  },
  {
   "cell_type": "markdown",
   "metadata": {},
   "source": [
    "## \n",
    "comprobar las precision del modelo\n"
   ]
  },
  {
   "cell_type": "code",
   "execution_count": 10,
   "metadata": {},
   "outputs": [
    {
     "name": "stdout",
     "output_type": "stream",
     "text": [
      "precision del modelo es de:  100.0 %\n"
     ]
    }
   ],
   "source": [
    "y_test = np.array([[0],[0],[1]])\n",
    "\n",
    "precision = accuracy_score(y_test,predicciones)\n",
    "\n",
    "print(f\"precision del modelo es de:  {precision * 100} %\")"
   ]
  },
  {
   "cell_type": "code",
   "execution_count": 11,
   "metadata": {},
   "outputs": [
    {
     "name": "stdout",
     "output_type": "stream",
     "text": [
      "['impar', 'impar', 'par']\n"
     ]
    }
   ],
   "source": [
    "resultado = []\n",
    "for i in predicciones:\n",
    "    if i == 1:\n",
    "        resultado.append(\"par\")\n",
    "    else:\n",
    "        resultado.append(\"impar\")\n",
    "print(resultado)\n"
   ]
  },
  {
   "cell_type": "markdown",
   "metadata": {},
   "source": [
    "## \n",
    "subir a github"
   ]
  },
  {
   "cell_type": "code",
   "execution_count": null,
   "metadata": {},
   "outputs": [],
   "source": [
    "from github import Github\n",
    "import os\n",
    "\n",
    "# Autenticación con GitHub\n",
    "g = Github(\"your_access_token\")\n",
    "\n",
    "# Obtener el repositorio\n",
    "repo = g.get_user().get_repo(\"your_repository_name\")\n",
    "\n",
    "# Leer el contenido del archivo\n",
    "with open(\"par_impar.ipynb\", \"r\") as file:\n",
    "    content = file.read()\n",
    "\n",
    "# Subir el archivo al repositorio\n",
    "repo.create_file(\"par_impar.ipynb\", \"Añadir notebook de par/impar\", content, branch=\"main\")\n",
    "\n",
    "print(\"Archivo subido exitosamente a GitHub\")"
   ]
  }
 ],
 "metadata": {
  "kernelspec": {
   "display_name": "Python 3",
   "language": "python",
   "name": "python3"
  },
  "language_info": {
   "codemirror_mode": {
    "name": "ipython",
    "version": 3
   },
   "file_extension": ".py",
   "mimetype": "text/x-python",
   "name": "python",
   "nbconvert_exporter": "python",
   "pygments_lexer": "ipython3",
   "version": "3.13.0"
  }
 },
 "nbformat": 4,
 "nbformat_minor": 2
}
