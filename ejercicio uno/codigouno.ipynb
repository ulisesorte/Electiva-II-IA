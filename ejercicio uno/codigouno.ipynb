{
 "cells": [
  {
   "cell_type": "code",
   "execution_count": null,
   "metadata": {},
   "outputs": [],
   "source": [
    "pip install seaborn"
   ]
  },
  {
   "cell_type": "code",
   "execution_count": null,
   "metadata": {},
   "outputs": [],
   "source": [
    "pip install pandas"
   ]
  },
  {
   "cell_type": "code",
   "execution_count": null,
   "metadata": {},
   "outputs": [],
   "source": [
    "pip install matplotlib"
   ]
  },
  {
   "cell_type": "code",
   "execution_count": null,
   "metadata": {},
   "outputs": [],
   "source": [
    "pip install numpy\n"
   ]
  },
  {
   "cell_type": "markdown",
   "metadata": {},
   "source": [
    "# introduccion "
   ]
  },
  {
   "cell_type": "code",
   "execution_count": 6,
   "metadata": {},
   "outputs": [
    {
     "name": "stderr",
     "output_type": "stream",
     "text": [
      "C:\\Users\\Personal\\AppData\\Local\\Temp\\ipykernel_17200\\2808573296.py:18: FutureWarning: \n",
      "\n",
      "Passing `palette` without assigning `hue` is deprecated and will be removed in v0.14.0. Assign the `x` variable to `hue` and set `legend=False` for the same effect.\n",
      "\n",
      "  sns.countplot(x=\"color\",data=df_cualitativos,palette=\"viridis\")\n",
      "C:\\Users\\Personal\\AppData\\Local\\Temp\\ipykernel_17200\\2808573296.py:25: FutureWarning: \n",
      "\n",
      "Passing `palette` without assigning `hue` is deprecated and will be removed in v0.14.0. Assign the `x` variable to `hue` and set `legend=False` for the same effect.\n",
      "\n",
      "  sns.countplot(x=\"preferencia\",data=df_cualitativos,palette=\"magma\")\n"
     ]
    },
    {
     "data": {
      "text/plain": [
       "Text(0, 0.5, 'frecuancia')"
      ]
     },
     "execution_count": 6,
     "metadata": {},
     "output_type": "execute_result"
    },
    {
     "data": {
      "image/png": "[encoded data removed]",
      "text/plain": [
       "<Figure size 640x480 with 2 Axes>"
      ]
     },
     "metadata": {},
     "output_type": "display_data"
    }
   ],
   "source": [
    "import matplotlib.pyplot as plt \n",
    "import pandas as pd\n",
    "import seaborn as sns\n",
    "\n",
    "datos_cualitativos = {\n",
    "    \"color\" : [\"azul\",\"azul\",\"amarillo\",\"rojo\",\"rojo\",\"amarillo\",\"azul\"],\n",
    "    \"preferencia\" :[\"Alta\",\"Alta\",\"Baja\",\"Media\",\"Media\",\"Baja\",\"Alta\"]\n",
    "}\n",
    "\n",
    "#crear dataframe\n",
    "df_cualitativos =pd.DataFrame(datos_cualitativos)\n",
    "\n",
    "# graficar con plt\n",
    "plt.Figure(figsize=(12,5))\n",
    "\n",
    "#crear de figura y subfiguras\n",
    "plt.subplot(1,2,1)\n",
    "sns.countplot(x=\"color\",data=df_cualitativos,palette=\"viridis\")\n",
    "plt.title(\"frecuancia de colores\")\n",
    "plt.xlabel(\"color\")\n",
    "plt.ylabel(\"frecuancia\")\n",
    "\n",
    "#creacion de subgrafica 2\n",
    "plt.subplot(1,2,2)\n",
    "sns.countplot(x=\"preferencia\",data=df_cualitativos,palette=\"magma\")\n",
    "plt.title(\"frecuancia de colores\")\n",
    "plt.xlabel(\"preferencia\")\n",
    "plt.ylabel(\"frecuancia\")\n"
   ]
  },
  {
   "cell_type": "code",
   "execution_count": null,
   "metadata": {},
   "outputs": [],
   "source": [
    "datos_cuantitativos = {\n",
    "    \"edades\":[20,50,30,20,35,70,75],\n",
    "    \"ingresos\": [3000,1000,5000,2000,1500,3500,1200]\n",
    "}\n",
    "\n",
    "#creacion de df para cuantitativos\n",
    "df_cuantitativos= pd.DataFrame(datos_cuantitativos)\n",
    "\n",
    "plt.Figure(figsize=(12,5))\n",
    "\n",
    "#histograma de edades \n",
    "plt.subplot(1,2,1)\n",
    "sns.histplot(df_cuantitativos[\"edades\"],bins=5, kde=True, color=\"blue\")\n",
    "plt.title(\"distribucion de edades\")\n",
    "plt.xlabel(\"edad\")\n",
    "plt.ylabel(\"frecuancia\")\n"
   ]
  },
  {
   "cell_type": "markdown",
   "metadata": {},
   "source": [
    "# medidas de tendencia central"
   ]
  },
  {
   "cell_type": "code",
   "execution_count": null,
   "metadata": {},
   "outputs": [],
   "source": [
    "import statistics\n",
    "\n",
    "edades=[20,50,36,55,25,85,41]\n",
    "\n",
    "media = statistics.mean(edades)\n",
    "mediana = statistics.median(edades)\n",
    "moda = statistics.mode(edades)\n",
    "\n",
    "print(f\"media: {media}\")\n",
    "print(f\"mediana: {mediana}\")\n",
    "print(f\"moda: {moda}\")"
   ]
  },
  {
   "cell_type": "markdown",
   "metadata": {},
   "source": [
    "# trabajo N°1"
   ]
  },
  {
   "cell_type": "code",
   "execution_count": null,
   "metadata": {},
   "outputs": [],
   "source": [
    "import pandas as pd\n",
    "\n",
    "data_importada = pd.read_csv(r'C:\\electiva_II_2025\\PracticaUnoIAEstadistica-main\\mi_df_minable.csv',sep=',',decimal='.')\n",
    "df_data_csv = pd.DataFrame(data_importada)\n"
   ]
  },
  {
   "cell_type": "code",
   "execution_count": null,
   "metadata": {},
   "outputs": [],
   "source": [
    "import pandas as pd\n",
    "import matplotlib.pyplot as plt\n",
    "import seaborn as sns\n",
    "\n",
    "# Cargar el archivo CSV\n",
    "data_importada = pd.read_csv(r'C:\\electiva_II_2025\\PracticaUnoIAEstadistica-main\\mi_df_minable.csv', sep=',', decimal='.')\n",
    "df_data_csv = pd.DataFrame(data_importada)\n",
    "\n",
    "# Contar la cantidad de cada categoría en Estado_civil\n",
    "estado_civil_counts = df_data_csv[\"Estado_civil\"].value_counts()\n",
    "\n",
    "# Crear la gráfica de pastel\n",
    "plt.figure(figsize=(8, 8))\n",
    "plt.pie(estado_civil_counts, labels=estado_civil_counts.index, autopct='%1.1f%%', startangle=140, \n",
    "        colors=[\"skyblue\", \"lightcoral\", \"lightgreen\", \"gold\"])\n",
    "plt.title(\"Distribución del Estado Civil\")\n",
    "plt.show()\n",
    "\n",
    "\n"
   ]
  },
  {
   "cell_type": "code",
   "execution_count": null,
   "metadata": {},
   "outputs": [],
   "source": [
    "import pandas as pd\n",
    "import matplotlib.pyplot as plt\n",
    "import seaborn as sns\n",
    "\n",
    "# Cargar el archivo CSV\n",
    "file_path = r'C:\\electiva_II_2025\\PracticaUnoIAEstadistica-main\\mi_df_minable.csv'  # Ajusta la ruta si es necesario\n",
    "df = pd.read_csv(file_path, sep=',', decimal='.')\n",
    "\n",
    "# Verificamos que la columna \"salario\" sea numérica\n",
    "df[\"salario\"] = pd.to_numeric(df[\"salario\"], errors=\"coerce\")\n",
    "\n",
    "# Configurar estilo de seaborn\n",
    "sns.set_style(\"whitegrid\")\n",
    "\n",
    "# Crear figura con dos gráficos\n",
    "fig, axes = plt.subplots(1, 2, figsize=(14, 5))\n",
    "\n",
    "# Histograma para visualizar la distribución del salario\n",
    "sns.histplot(df[\"salario\"], bins=10, kde=True, ax=axes[0], color=\"skyblue\")\n",
    "axes[0].set_title(\"Distribución del Salario\")\n",
    "axes[0].set_xlabel(\"Salario\")\n",
    "axes[0].set_ylabel(\"Frecuencia\")\n",
    "\n",
    "# Boxplot para analizar la dispersión y valores atípicos\n",
    "sns.boxplot(x=df[\"salario\"], ax=axes[1], color=\"lightcoral\")\n",
    "axes[1].set_title(\"Caja de Bigotes del Salario\")\n",
    "axes[1].set_xlabel(\"Salario\")\n",
    "\n",
    "# Mostrar gráficos\n",
    "plt.tight_layout()\n",
    "plt.show()\n"
   ]
  },
  {
   "cell_type": "code",
   "execution_count": null,
   "metadata": {},
   "outputs": [],
   "source": [
    "import pandas as pd\n",
    "import matplotlib.pyplot as plt\n",
    "import seaborn as sns\n",
    "\n",
    "# Cargar el archivo CSV\n",
    "file_path = r'C:\\electiva_II_2025\\PracticaUnoIAEstadistica-main\\mi_df_minable.csv'  # Ajusta la ruta si es necesario\n",
    "df = pd.read_csv(file_path, sep=',', decimal='.')\n",
    "\n",
    "# Convertir \"salario\" a numérico\n",
    "df[\"salario\"] = pd.to_numeric(df[\"salario\"], errors=\"coerce\")\n",
    "\n",
    "# Calcular medidas estadísticas\n",
    "media = df[\"salario\"].mean()\n",
    "mediana = df[\"salario\"].median()\n",
    "moda = df[\"salario\"].mode()[0]  # Tomar la primera moda si hay más de una\n",
    "\n",
    "# Configurar estilo de seaborn\n",
    "sns.set_style(\"whitegrid\")\n",
    "\n",
    "# Crear el histograma con KDE\n",
    "plt.figure(figsize=(10, 5))\n",
    "sns.histplot(df[\"salario\"], bins=30, kde=True, color=\"skyblue\", alpha=0.7)\n",
    "\n",
    "# Agregar líneas de media, mediana y moda\n",
    "plt.axvline(media, color='red', linestyle='dashed', linewidth=2, label=f\"Media: {media:.2f}\")\n",
    "plt.axvline(mediana, color='green', linestyle='dashed', linewidth=2, label=f\"Mediana: {mediana:.2f}\")\n",
    "plt.axvline(moda, color='purple', linestyle='dashed', linewidth=2, label=f\"Moda: {moda:.2f}\")\n",
    "\n",
    "# Etiquetas y título\n",
    "plt.title(\"Distribución del Salario con Media, Mediana y Moda\")\n",
    "plt.xlabel(\"Salario\")\n",
    "plt.ylabel(\"Frecuencia\")\n",
    "plt.legend()\n",
    "\n",
    "# Mostrar gráfico\n",
    "plt.show()\n"
   ]
  }
 ],
 "metadata": {
  "kernelspec": {
   "display_name": "Python 3",
   "language": "python",
   "name": "python3"
  },
  "language_info": {
   "codemirror_mode": {
    "name": "ipython",
    "version": 3
   },
   "file_extension": ".py",
   "mimetype": "text/x-python",
   "name": "python",
   "nbconvert_exporter": "python",
   "pygments_lexer": "ipython3",
   "version": "3.13.0"
  }
 },
 "nbformat": 4,
 "nbformat_minor": 2
}
