{
 "cells": [
  {
   "cell_type": "code",
   "execution_count": 7,
   "metadata": {},
   "outputs": [],
   "source": [
    "import pandas as pd\n",
    "\n",
    "data_importada = pd.read_csv(r'C:\\Users\\Personal\\Downloads\\archive\\car_price_dataset.csv',sep=',',decimal='.')\n",
    "df_data_csv = pd.DataFrame(data_importada)\n"
   ]
  },
  {
   "cell_type": "code",
   "execution_count": 8,
   "metadata": {},
   "outputs": [
    {
     "name": "stdout",
     "output_type": "stream",
     "text": [
      "<class 'pandas.core.frame.DataFrame'>\n",
      "RangeIndex: 10000 entries, 0 to 9999\n",
      "Data columns (total 10 columns):\n",
      " #   Column        Non-Null Count  Dtype  \n",
      "---  ------        --------------  -----  \n",
      " 0   Brand         10000 non-null  object \n",
      " 1   Model         10000 non-null  object \n",
      " 2   Year          10000 non-null  int64  \n",
      " 3   Engine_Size   10000 non-null  float64\n",
      " 4   Fuel_Type     10000 non-null  object \n",
      " 5   Transmission  10000 non-null  object \n",
      " 6   Mileage       10000 non-null  int64  \n",
      " 7   Doors         10000 non-null  int64  \n",
      " 8   Owner_Count   10000 non-null  int64  \n",
      " 9   Price         10000 non-null  int64  \n",
      "dtypes: float64(1), int64(5), object(4)\n",
      "memory usage: 781.4+ KB\n",
      "None\n",
      "               Year   Engine_Size        Mileage         Doors   Owner_Count  \\\n",
      "count  10000.000000  10000.000000   10000.000000  10000.000000  10000.000000   \n",
      "mean    2011.543700      3.000560  149239.111800      3.497100      2.991100   \n",
      "std        6.897699      1.149324   86322.348957      1.110097      1.422682   \n",
      "min     2000.000000      1.000000      25.000000      2.000000      1.000000   \n",
      "25%     2006.000000      2.000000   74649.250000      3.000000      2.000000   \n",
      "50%     2012.000000      3.000000  149587.000000      3.000000      3.000000   \n",
      "75%     2017.000000      4.000000  223577.500000      4.000000      4.000000   \n",
      "max     2023.000000      5.000000  299947.000000      5.000000      5.000000   \n",
      "\n",
      "             Price  \n",
      "count  10000.00000  \n",
      "mean    8852.96440  \n",
      "std     3112.59681  \n",
      "min     2000.00000  \n",
      "25%     6646.00000  \n",
      "50%     8858.50000  \n",
      "75%    11086.50000  \n",
      "max    18301.00000  \n",
      "Brand           0\n",
      "Model           0\n",
      "Year            0\n",
      "Engine_Size     0\n",
      "Fuel_Type       0\n",
      "Transmission    0\n",
      "Mileage         0\n",
      "Doors           0\n",
      "Owner_Count     0\n",
      "Price           0\n",
      "dtype: int64\n"
     ]
    },
    {
     "data": {
      "text/plain": [
       "(None, None, None)"
      ]
     },
     "execution_count": 8,
     "metadata": {},
     "output_type": "execute_result"
    }
   ],
   "source": [
    "print(df_data_csv.info()), print(df_data_csv.describe()), print(df_data_csv.isnull().sum())\n"
   ]
  },
  {
   "cell_type": "markdown",
   "metadata": {},
   "source": [
    "# valores nulos"
   ]
  },
  {
   "cell_type": "code",
   "execution_count": 9,
   "metadata": {},
   "outputs": [
    {
     "name": "stdout",
     "output_type": "stream",
     "text": [
      "Series([], dtype: int64)\n"
     ]
    }
   ],
   "source": [
    "print(df_data_csv.isnull().sum()[df_data_csv.isnull().sum() > 0])\n"
   ]
  },
  {
   "cell_type": "markdown",
   "metadata": {},
   "source": [
    "# valores duplicados "
   ]
  },
  {
   "cell_type": "code",
   "execution_count": 10,
   "metadata": {},
   "outputs": [
    {
     "name": "stdout",
     "output_type": "stream",
     "text": [
      "0\n",
      "Filas duplicadas: 0\n"
     ]
    }
   ],
   "source": [
    "print(df_data_csv.duplicated().sum())\n",
    "\n",
    "print(f\"Filas duplicadas: {df_data_csv.duplicated().sum()}\")\n"
   ]
  },
  {
   "cell_type": "markdown",
   "metadata": {},
   "source": [
    "# valores atipicos"
   ]
  },
  {
   "cell_type": "code",
   "execution_count": 11,
   "metadata": {},
   "outputs": [
    {
     "name": "stdout",
     "output_type": "stream",
     "text": [
      "               Year   Engine_Size        Mileage         Doors   Owner_Count  \\\n",
      "count  10000.000000  10000.000000   10000.000000  10000.000000  10000.000000   \n",
      "mean    2011.543700      3.000560  149239.111800      3.497100      2.991100   \n",
      "std        6.897699      1.149324   86322.348957      1.110097      1.422682   \n",
      "min     2000.000000      1.000000      25.000000      2.000000      1.000000   \n",
      "25%     2006.000000      2.000000   74649.250000      3.000000      2.000000   \n",
      "50%     2012.000000      3.000000  149587.000000      3.000000      3.000000   \n",
      "75%     2017.000000      4.000000  223577.500000      4.000000      4.000000   \n",
      "max     2023.000000      5.000000  299947.000000      5.000000      5.000000   \n",
      "\n",
      "             Price  \n",
      "count  10000.00000  \n",
      "mean    8852.96440  \n",
      "std     3112.59681  \n",
      "min     2000.00000  \n",
      "25%     6646.00000  \n",
      "50%     8858.50000  \n",
      "75%    11086.50000  \n",
      "max    18301.00000  \n"
     ]
    }
   ],
   "source": [
    "print(df_data_csv.describe())\n"
   ]
  },
  {
   "cell_type": "markdown",
   "metadata": {},
   "source": [
    "# tipo de datos "
   ]
  },
  {
   "cell_type": "code",
   "execution_count": 12,
   "metadata": {},
   "outputs": [
    {
     "name": "stdout",
     "output_type": "stream",
     "text": [
      "Brand            object\n",
      "Model            object\n",
      "Year              int64\n",
      "Engine_Size     float64\n",
      "Fuel_Type        object\n",
      "Transmission     object\n",
      "Mileage           int64\n",
      "Doors             int64\n",
      "Owner_Count       int64\n",
      "Price             int64\n",
      "dtype: object\n"
     ]
    }
   ],
   "source": [
    "print(df_data_csv.dtypes)"
   ]
  },
  {
   "cell_type": "markdown",
   "metadata": {},
   "source": [
    "# Revisar si hay valores numéricos guardados como texto"
   ]
  },
  {
   "cell_type": "code",
   "execution_count": 13,
   "metadata": {},
   "outputs": [],
   "source": [
    "for col in [\"Year\", \"Engine_Size\", \"Mileage\", \"Doors\", \"Owner_Count\", \"Price\"]:\n",
    "    if df_data_csv[col].dtype == \"object\":\n",
    "        print(f\"⚠️ Problema en {col}: valores no numéricos detectados\")\n"
   ]
  },
  {
   "cell_type": "markdown",
   "metadata": {},
   "source": [
    "# Revisar si hay espacios en blanco en columnas categóricas"
   ]
  },
  {
   "cell_type": "code",
   "execution_count": 14,
   "metadata": {},
   "outputs": [],
   "source": [
    "for col in [\"Brand\", \"Model\", \"Fuel_Type\", \"Transmission\"]:\n",
    "    df_data_csv[col] = df_data_csv[col].str.strip()\n"
   ]
  },
  {
   "cell_type": "markdown",
   "metadata": {},
   "source": [
    "# limpieza de dataset"
   ]
  },
  {
   "cell_type": "code",
   "execution_count": null,
   "metadata": {},
   "outputs": [
    {
     "name": "stdout",
     "output_type": "stream",
     "text": [
      "Valores atípicos eliminados y dataset limpio guardado.\n"
     ]
    },
    {
     "data": {
      "application/vnd.microsoft.datawrangler.viewer.v0+json": {
       "columns": [
        {
         "name": "index",
         "rawType": "int64",
         "type": "integer"
        },
        {
         "name": "Brand",
         "rawType": "object",
         "type": "string"
        },
        {
         "name": "Model",
         "rawType": "object",
         "type": "string"
        },
        {
         "name": "Year",
         "rawType": "int64",
         "type": "integer"
        },
        {
         "name": "Engine_Size",
         "rawType": "float64",
         "type": "float"
        },
        {
         "name": "Fuel_Type",
         "rawType": "object",
         "type": "string"
        },
        {
         "name": "Transmission",
         "rawType": "object",
         "type": "string"
        },
        {
         "name": "Mileage",
         "rawType": "int64",
         "type": "integer"
        },
        {
         "name": "Doors",
         "rawType": "int64",
         "type": "integer"
        },
        {
         "name": "Owner_Count",
         "rawType": "int64",
         "type": "integer"
        },
        {
         "name": "Price",
         "rawType": "int64",
         "type": "integer"
        }
       ],
       "conversionMethod": "pd.DataFrame",
       "ref": "bc53dfac-ac1a-41f5-a181-9653068c9cc3",
       "rows": [
        [
         "0",
         "Kia",
         "Rio",
         "2020",
         "4.2",
         "Diesel",
         "Manual",
         "289944",
         "3",
         "5",
         "8501"
        ],
        [
         "1",
         "Chevrolet",
         "Malibu",
         "2012",
         "2.0",
         "Hybrid",
         "Automatic",
         "5356",
         "2",
         "3",
         "12092"
        ],
        [
         "2",
         "Mercedes",
         "GLA",
         "2020",
         "4.2",
         "Diesel",
         "Automatic",
         "231440",
         "4",
         "2",
         "11171"
        ],
        [
         "3",
         "Audi",
         "Q5",
         "2023",
         "2.0",
         "Electric",
         "Manual",
         "160971",
         "2",
         "1",
         "11780"
        ],
        [
         "4",
         "Volkswagen",
         "Golf",
         "2003",
         "2.6",
         "Hybrid",
         "Semi-Automatic",
         "286618",
         "3",
         "3",
         "2867"
        ],
        [
         "5",
         "Toyota",
         "Camry",
         "2007",
         "2.7",
         "Petrol",
         "Automatic",
         "157889",
         "4",
         "4",
         "7242"
        ],
        [
         "6",
         "Honda",
         "Civic",
         "2010",
         "3.4",
         "Electric",
         "Automatic",
         "139584",
         "3",
         "1",
         "11208"
        ],
        [
         "7",
         "Kia",
         "Sportage",
         "2001",
         "4.7",
         "Electric",
         "Semi-Automatic",
         "157495",
         "2",
         "2",
         "7950"
        ],
        [
         "8",
         "Kia",
         "Sportage",
         "2014",
         "2.6",
         "Hybrid",
         "Manual",
         "98700",
         "3",
         "4",
         "9926"
        ],
        [
         "9",
         "Toyota",
         "RAV4",
         "2005",
         "3.1",
         "Petrol",
         "Manual",
         "107724",
         "2",
         "5",
         "6545"
        ],
        [
         "10",
         "BMW",
         "5 Series",
         "2013",
         "1.3",
         "Hybrid",
         "Automatic",
         "296824",
         "2",
         "3",
         "5863"
        ],
        [
         "11",
         "Volkswagen",
         "Golf",
         "2009",
         "4.5",
         "Hybrid",
         "Manual",
         "42795",
         "4",
         "3",
         "11444"
        ],
        [
         "12",
         "Honda",
         "CR-V",
         "2007",
         "4.8",
         "Hybrid",
         "Automatic",
         "132875",
         "3",
         "4",
         "10842"
        ],
        [
         "13",
         "Hyundai",
         "Elantra",
         "2004",
         "2.3",
         "Hybrid",
         "Semi-Automatic",
         "188996",
         "2",
         "1",
         "4820"
        ],
        [
         "14",
         "Volkswagen",
         "Golf",
         "2003",
         "2.4",
         "Petrol",
         "Automatic",
         "145921",
         "5",
         "2",
         "5981"
        ],
        [
         "15",
         "Volkswagen",
         "Golf",
         "2007",
         "3.2",
         "Diesel",
         "Automatic",
         "60103",
         "2",
         "1",
         "9697"
        ],
        [
         "16",
         "Hyundai",
         "Elantra",
         "2017",
         "2.9",
         "Electric",
         "Automatic",
         "38133",
         "5",
         "2",
         "14837"
        ],
        [
         "17",
         "Volkswagen",
         "Tiguan",
         "2006",
         "4.5",
         "Electric",
         "Manual",
         "41161",
         "2",
         "2",
         "11576"
        ],
        [
         "18",
         "Kia",
         "Rio",
         "2000",
         "3.4",
         "Diesel",
         "Semi-Automatic",
         "257427",
         "3",
         "3",
         "2351"
        ],
        [
         "19",
         "Mercedes",
         "GLA",
         "2021",
         "1.5",
         "Petrol",
         "Manual",
         "34640",
         "2",
         "1",
         "11207"
        ],
        [
         "20",
         "Chevrolet",
         "Equinox",
         "2018",
         "1.8",
         "Hybrid",
         "Automatic",
         "21261",
         "2",
         "1",
         "13374"
        ],
        [
         "21",
         "Toyota",
         "RAV4",
         "2000",
         "4.6",
         "Hybrid",
         "Semi-Automatic",
         "41814",
         "2",
         "2",
         "8863"
        ],
        [
         "22",
         "Toyota",
         "RAV4",
         "2003",
         "2.0",
         "Electric",
         "Manual",
         "136662",
         "5",
         "4",
         "6266"
        ],
        [
         "23",
         "Ford",
         "Explorer",
         "2006",
         "2.8",
         "Hybrid",
         "Manual",
         "99921",
         "4",
         "2",
         "7701"
        ],
        [
         "24",
         "Mercedes",
         "GLA",
         "2016",
         "3.9",
         "Petrol",
         "Semi-Automatic",
         "19868",
         "3",
         "4",
         "12402"
        ],
        [
         "25",
         "Kia",
         "Sportage",
         "2011",
         "1.8",
         "Diesel",
         "Automatic",
         "92188",
         "2",
         "4",
         "8856"
        ],
        [
         "26",
         "Audi",
         "A3",
         "2022",
         "3.3",
         "Electric",
         "Manual",
         "79350",
         "5",
         "3",
         "14413"
        ],
        [
         "27",
         "BMW",
         "3 Series",
         "2017",
         "2.3",
         "Electric",
         "Semi-Automatic",
         "142701",
         "5",
         "3",
         "10645"
        ],
        [
         "28",
         "BMW",
         "3 Series",
         "2020",
         "4.7",
         "Electric",
         "Semi-Automatic",
         "210767",
         "3",
         "3",
         "12584"
        ],
        [
         "29",
         "Chevrolet",
         "Equinox",
         "2013",
         "1.9",
         "Hybrid",
         "Automatic",
         "121816",
         "4",
         "4",
         "9963"
        ],
        [
         "30",
         "Hyundai",
         "Tucson",
         "2007",
         "3.9",
         "Electric",
         "Automatic",
         "213643",
         "4",
         "5",
         "9327"
        ],
        [
         "31",
         "Volkswagen",
         "Passat",
         "2008",
         "3.5",
         "Electric",
         "Manual",
         "88381",
         "3",
         "1",
         "10232"
        ],
        [
         "32",
         "Chevrolet",
         "Impala",
         "2017",
         "2.3",
         "Petrol",
         "Automatic",
         "183619",
         "5",
         "1",
         "9327"
        ],
        [
         "33",
         "Mercedes",
         "GLA",
         "2013",
         "3.3",
         "Electric",
         "Semi-Automatic",
         "80184",
         "3",
         "5",
         "11696"
        ],
        [
         "34",
         "Toyota",
         "Corolla",
         "2010",
         "3.2",
         "Diesel",
         "Automatic",
         "132454",
         "4",
         "4",
         "9150"
        ],
        [
         "35",
         "Kia",
         "Optima",
         "2005",
         "4.5",
         "Petrol",
         "Manual",
         "18590",
         "2",
         "5",
         "9728"
        ],
        [
         "36",
         "Audi",
         "Q5",
         "2013",
         "3.5",
         "Hybrid",
         "Semi-Automatic",
         "263411",
         "4",
         "1",
         "7231"
        ],
        [
         "37",
         "Kia",
         "Sportage",
         "2000",
         "1.4",
         "Electric",
         "Manual",
         "167050",
         "5",
         "4",
         "4159"
        ],
        [
         "38",
         "Ford",
         "Fiesta",
         "2017",
         "2.2",
         "Hybrid",
         "Manual",
         "277363",
         "2",
         "4",
         "6852"
        ],
        [
         "39",
         "Audi",
         "A4",
         "2004",
         "1.0",
         "Petrol",
         "Manual",
         "94415",
         "2",
         "1",
         "4411"
        ],
        [
         "40",
         "Ford",
         "Focus",
         "2004",
         "1.2",
         "Electric",
         "Manual",
         "93645",
         "3",
         "3",
         "6627"
        ],
        [
         "41",
         "BMW",
         "5 Series",
         "2007",
         "4.9",
         "Petrol",
         "Manual",
         "120491",
         "2",
         "1",
         "8690"
        ],
        [
         "42",
         "Honda",
         "Civic",
         "2000",
         "3.9",
         "Hybrid",
         "Manual",
         "56020",
         "2",
         "4",
         "7879"
        ],
        [
         "43",
         "Toyota",
         "RAV4",
         "2003",
         "3.9",
         "Electric",
         "Automatic",
         "131868",
         "5",
         "3",
         "9762"
        ],
        [
         "44",
         "Audi",
         "Q5",
         "2023",
         "3.6",
         "Electric",
         "Manual",
         "238306",
         "5",
         "2",
         "11833"
        ],
        [
         "45",
         "Ford",
         "Focus",
         "2011",
         "2.3",
         "Diesel",
         "Automatic",
         "255372",
         "5",
         "5",
         "6092"
        ],
        [
         "46",
         "Audi",
         "A4",
         "2009",
         "2.4",
         "Diesel",
         "Manual",
         "263797",
         "2",
         "5",
         "3924"
        ],
        [
         "47",
         "Hyundai",
         "Elantra",
         "2006",
         "2.8",
         "Electric",
         "Manual",
         "110280",
         "3",
         "3",
         "8494"
        ],
        [
         "48",
         "Audi",
         "A3",
         "2009",
         "1.2",
         "Electric",
         "Automatic",
         "111448",
         "5",
         "1",
         "9271"
        ],
        [
         "49",
         "Mercedes",
         "GLA",
         "2013",
         "1.9",
         "Petrol",
         "Manual",
         "205005",
         "2",
         "2",
         "5799"
        ]
       ],
       "shape": {
        "columns": 10,
        "rows": 9994
       }
      },
      "text/html": [
       "<div>\n",
       "<style scoped>\n",
       "    .dataframe tbody tr th:only-of-type {\n",
       "        vertical-align: middle;\n",
       "    }\n",
       "\n",
       "    .dataframe tbody tr th {\n",
       "        vertical-align: top;\n",
       "    }\n",
       "\n",
       "    .dataframe thead th {\n",
       "        text-align: right;\n",
       "    }\n",
       "</style>\n",
       "<table border=\"1\" class=\"dataframe\">\n",
       "  <thead>\n",
       "    <tr style=\"text-align: right;\">\n",
       "      <th></th>\n",
       "      <th>Brand</th>\n",
       "      <th>Model</th>\n",
       "      <th>Year</th>\n",
       "      <th>Engine_Size</th>\n",
       "      <th>Fuel_Type</th>\n",
       "      <th>Transmission</th>\n",
       "      <th>Mileage</th>\n",
       "      <th>Doors</th>\n",
       "      <th>Owner_Count</th>\n",
       "      <th>Price</th>\n",
       "    </tr>\n",
       "  </thead>\n",
       "  <tbody>\n",
       "    <tr>\n",
       "      <th>0</th>\n",
       "      <td>Kia</td>\n",
       "      <td>Rio</td>\n",
       "      <td>2020</td>\n",
       "      <td>4.2</td>\n",
       "      <td>Diesel</td>\n",
       "      <td>Manual</td>\n",
       "      <td>289944</td>\n",
       "      <td>3</td>\n",
       "      <td>5</td>\n",
       "      <td>8501</td>\n",
       "    </tr>\n",
       "    <tr>\n",
       "      <th>1</th>\n",
       "      <td>Chevrolet</td>\n",
       "      <td>Malibu</td>\n",
       "      <td>2012</td>\n",
       "      <td>2.0</td>\n",
       "      <td>Hybrid</td>\n",
       "      <td>Automatic</td>\n",
       "      <td>5356</td>\n",
       "      <td>2</td>\n",
       "      <td>3</td>\n",
       "      <td>12092</td>\n",
       "    </tr>\n",
       "    <tr>\n",
       "      <th>2</th>\n",
       "      <td>Mercedes</td>\n",
       "      <td>GLA</td>\n",
       "      <td>2020</td>\n",
       "      <td>4.2</td>\n",
       "      <td>Diesel</td>\n",
       "      <td>Automatic</td>\n",
       "      <td>231440</td>\n",
       "      <td>4</td>\n",
       "      <td>2</td>\n",
       "      <td>11171</td>\n",
       "    </tr>\n",
       "    <tr>\n",
       "      <th>3</th>\n",
       "      <td>Audi</td>\n",
       "      <td>Q5</td>\n",
       "      <td>2023</td>\n",
       "      <td>2.0</td>\n",
       "      <td>Electric</td>\n",
       "      <td>Manual</td>\n",
       "      <td>160971</td>\n",
       "      <td>2</td>\n",
       "      <td>1</td>\n",
       "      <td>11780</td>\n",
       "    </tr>\n",
       "    <tr>\n",
       "      <th>4</th>\n",
       "      <td>Volkswagen</td>\n",
       "      <td>Golf</td>\n",
       "      <td>2003</td>\n",
       "      <td>2.6</td>\n",
       "      <td>Hybrid</td>\n",
       "      <td>Semi-Automatic</td>\n",
       "      <td>286618</td>\n",
       "      <td>3</td>\n",
       "      <td>3</td>\n",
       "      <td>2867</td>\n",
       "    </tr>\n",
       "    <tr>\n",
       "      <th>...</th>\n",
       "      <td>...</td>\n",
       "      <td>...</td>\n",
       "      <td>...</td>\n",
       "      <td>...</td>\n",
       "      <td>...</td>\n",
       "      <td>...</td>\n",
       "      <td>...</td>\n",
       "      <td>...</td>\n",
       "      <td>...</td>\n",
       "      <td>...</td>\n",
       "    </tr>\n",
       "    <tr>\n",
       "      <th>9995</th>\n",
       "      <td>Kia</td>\n",
       "      <td>Optima</td>\n",
       "      <td>2004</td>\n",
       "      <td>3.7</td>\n",
       "      <td>Diesel</td>\n",
       "      <td>Semi-Automatic</td>\n",
       "      <td>5794</td>\n",
       "      <td>2</td>\n",
       "      <td>4</td>\n",
       "      <td>8884</td>\n",
       "    </tr>\n",
       "    <tr>\n",
       "      <th>9996</th>\n",
       "      <td>Chevrolet</td>\n",
       "      <td>Impala</td>\n",
       "      <td>2002</td>\n",
       "      <td>1.4</td>\n",
       "      <td>Electric</td>\n",
       "      <td>Automatic</td>\n",
       "      <td>168000</td>\n",
       "      <td>2</td>\n",
       "      <td>1</td>\n",
       "      <td>6240</td>\n",
       "    </tr>\n",
       "    <tr>\n",
       "      <th>9997</th>\n",
       "      <td>BMW</td>\n",
       "      <td>3 Series</td>\n",
       "      <td>2010</td>\n",
       "      <td>3.0</td>\n",
       "      <td>Petrol</td>\n",
       "      <td>Automatic</td>\n",
       "      <td>86664</td>\n",
       "      <td>5</td>\n",
       "      <td>1</td>\n",
       "      <td>9866</td>\n",
       "    </tr>\n",
       "    <tr>\n",
       "      <th>9998</th>\n",
       "      <td>Ford</td>\n",
       "      <td>Explorer</td>\n",
       "      <td>2002</td>\n",
       "      <td>1.4</td>\n",
       "      <td>Hybrid</td>\n",
       "      <td>Automatic</td>\n",
       "      <td>225772</td>\n",
       "      <td>4</td>\n",
       "      <td>1</td>\n",
       "      <td>4084</td>\n",
       "    </tr>\n",
       "    <tr>\n",
       "      <th>9999</th>\n",
       "      <td>Volkswagen</td>\n",
       "      <td>Tiguan</td>\n",
       "      <td>2001</td>\n",
       "      <td>2.1</td>\n",
       "      <td>Diesel</td>\n",
       "      <td>Manual</td>\n",
       "      <td>157882</td>\n",
       "      <td>3</td>\n",
       "      <td>3</td>\n",
       "      <td>3342</td>\n",
       "    </tr>\n",
       "  </tbody>\n",
       "</table>\n",
       "<p>9994 rows × 10 columns</p>\n",
       "</div>"
      ],
      "text/plain": [
       "           Brand     Model  Year  Engine_Size Fuel_Type    Transmission  \\\n",
       "0            Kia       Rio  2020          4.2    Diesel          Manual   \n",
       "1      Chevrolet    Malibu  2012          2.0    Hybrid       Automatic   \n",
       "2       Mercedes       GLA  2020          4.2    Diesel       Automatic   \n",
       "3           Audi        Q5  2023          2.0  Electric          Manual   \n",
       "4     Volkswagen      Golf  2003          2.6    Hybrid  Semi-Automatic   \n",
       "...          ...       ...   ...          ...       ...             ...   \n",
       "9995         Kia    Optima  2004          3.7    Diesel  Semi-Automatic   \n",
       "9996   Chevrolet    Impala  2002          1.4  Electric       Automatic   \n",
       "9997         BMW  3 Series  2010          3.0    Petrol       Automatic   \n",
       "9998        Ford  Explorer  2002          1.4    Hybrid       Automatic   \n",
       "9999  Volkswagen    Tiguan  2001          2.1    Diesel          Manual   \n",
       "\n",
       "      Mileage  Doors  Owner_Count  Price  \n",
       "0      289944      3            5   8501  \n",
       "1        5356      2            3  12092  \n",
       "2      231440      4            2  11171  \n",
       "3      160971      2            1  11780  \n",
       "4      286618      3            3   2867  \n",
       "...       ...    ...          ...    ...  \n",
       "9995     5794      2            4   8884  \n",
       "9996   168000      2            1   6240  \n",
       "9997    86664      5            1   9866  \n",
       "9998   225772      4            1   4084  \n",
       "9999   157882      3            3   3342  \n",
       "\n",
       "[9994 rows x 10 columns]"
      ]
     },
     "metadata": {},
     "output_type": "display_data"
    }
   ],
   "source": [
    "import pandas as pd\n",
    "\n",
    "# Filtrar solo las columnas numéricas\n",
    "df_numeric = df_data_csv.select_dtypes(include=[\"number\"])\n",
    "\n",
    "# Calcular el rango intercuartílico (IQR)\n",
    "Q1 = df_numeric.quantile(0.25)\n",
    "Q3 = df_numeric.quantile(0.75)\n",
    "IQR = Q3 - Q1\n",
    "\n",
    "# Filtrar valores dentro del rango válido\n",
    "df_clean = df_data_csv[~((df_numeric < (Q1 - 1.5 * IQR)) | (df_numeric > (Q3 + 1.5 * IQR))).any(axis=1)]\n",
    "\n",
    "# Guardar el dataset limpio\n",
    "df_clean.to_csv(\"car_price_dataset_clean.csv\", index=False)\n",
    "\n",
    "print(\"Valores atípicos eliminados y dataset limpio guardado.\")\n",
    "\n",
    "\n",
    "\n",
    "from IPython.display import display\n",
    "\n",
    "display(df_clean)  # Muestra el dataset con formato de tabla\n",
    "\n",
    "\n",
    "\n",
    "\n",
    "\n",
    "\n"
   ]
  }
 ],
 "metadata": {
  "kernelspec": {
   "display_name": "Python 3",
   "language": "python",
   "name": "python3"
  },
  "language_info": {
   "codemirror_mode": {
    "name": "ipython",
    "version": 3
   },
   "file_extension": ".py",
   "mimetype": "text/x-python",
   "name": "python",
   "nbconvert_exporter": "python",
   "pygments_lexer": "ipython3",
   "version": "3.13.0"
  }
 },
 "nbformat": 4,
 "nbformat_minor": 2
}
